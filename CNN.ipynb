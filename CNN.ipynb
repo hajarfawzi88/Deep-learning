{
  "cells": [
    {
      "cell_type": "markdown",
      "metadata": {
        "id": "Tdf8w4gs9ni5"
      },
      "source": [
        "\n",
        "Using **fashion_mnist** dataset\n",
        "\n",
        "Design three different CNN neural networks with start with 64, 128, or 265 filters (In First Layer) (6 Marks)\n",
        "\n",
        "Reach Accuracy greater than 96% at least in one model(2 Marks)\n",
        "\n",
        "Compare accuracy, loss, and execution time in (CPU vs collab GPU) (Only in one model) (2 Marks)\n",
        "\n",
        "***Bonus:*** Test your model on the CIFAR10 dataset, State the difference between 2D and 3D Model {Model input, output , layers, hyper parameters}(2 Marks)\n"
      ]
    },
    {
      "cell_type": "code",
      "execution_count": null,
      "metadata": {
        "id": "DWd6ImDC9q_u"
      },
      "outputs": [],
      "source": [
        "import tensorflow as tf\n",
        "from tensorflow.keras import datasets, layers, models\n",
        "import time\n",
        "(train_images, train_labels), (test_images, test_labels) = datasets.fashion_mnist.load_data()"
      ]
    },
    {
      "cell_type": "markdown",
      "metadata": {
        "id": "3tlZeGlPybWQ"
      },
      "source": [
        "**Loading the data**"
      ]
    },
    {
      "cell_type": "code",
      "execution_count": null,
      "metadata": {
        "id": "F7xvvice9rKR"
      },
      "outputs": [],
      "source": [
        "train_images, test_images = train_images / 255.0, test_images / 255.0"
      ]
    },
    {
      "cell_type": "markdown",
      "metadata": {
        "id": "Rszw1BSXyV94"
      },
      "source": [
        "**Defining the CNNs**"
      ]
    },
    {
      "cell_type": "code",
      "execution_count": null,
      "metadata": {
        "id": "BH-wecOI9rMY"
      },
      "outputs": [],
      "source": [
        "# The first CNN has 64 filters\n",
        "model_64 = models.Sequential([\n",
        "  layers.Conv2D(64, (3, 3), activation='relu', input_shape=(28, 28, 1)),\n",
        "  layers.MaxPooling2D((2, 2)),\n",
        "  layers.Conv2D(128, (3, 3), activation='relu'),\n",
        "  layers.MaxPooling2D((2, 2)),\n",
        "  layers.Flatten(),\n",
        "  layers.Dense(10, activation='softmax')\n",
        "])\n"
      ]
    },
    {
      "cell_type": "code",
      "execution_count": null,
      "metadata": {
        "id": "ZaY-h3Wg9rPA"
      },
      "outputs": [],
      "source": [
        "# The second CNN has 128 filters\n",
        "model_128 = models.Sequential([\n",
        "  layers.Conv2D(128, (3, 3), activation='relu', input_shape=(28, 28, 1)),\n",
        "  layers.MaxPooling2D((2, 2)),\n",
        "  layers.Conv2D(256, (3, 3), activation='relu'),\n",
        "  layers.MaxPooling2D((2, 2)),\n",
        "  layers.Flatten(),\n",
        "  layers.Dense(10, activation='softmax')\n",
        "])\n"
      ]
    },
    {
      "cell_type": "code",
      "execution_count": null,
      "metadata": {
        "id": "fua_WP129rSY"
      },
      "outputs": [],
      "source": [
        "# The third CNN has 256 filters\n",
        "model_256 = models.Sequential([\n",
        "  layers.Conv2D(256, (3, 3), activation='relu', input_shape=(28, 28, 1)),\n",
        "  layers.MaxPooling2D((2, 2)),\n",
        "  layers.Conv2D(512, (3, 3), activation='relu'),\n",
        "  layers.MaxPooling2D((2, 2)),\n",
        "  layers.Flatten(),\n",
        "  layers.Dense(10, activation='softmax')\n",
        "])\n"
      ]
    },
    {
      "cell_type": "markdown",
      "metadata": {
        "id": "dZUcEVp6yN4P"
      },
      "source": [
        "**Models compile**"
      ]
    },
    {
      "cell_type": "code",
      "execution_count": null,
      "metadata": {
        "id": "5jTrQhuFiAu-"
      },
      "outputs": [],
      "source": [
        "model_64.compile(optimizer='adam', loss='sparse_categorical_crossentropy', metrics=['accuracy'])\n",
        "model_128.compile(optimizer='adam',loss='sparse_categorical_crossentropy',metrics=['accuracy'])\n",
        "model_256.compile(optimizer='adam',loss='sparse_categorical_crossentropy',metrics=['accuracy'])"
      ]
    },
    {
      "cell_type": "markdown",
      "metadata": {
        "id": "d2gEJhHcyhjo"
      },
      "source": [
        "Training each model on training sets\n"
      ]
    },
    {
      "cell_type": "code",
      "execution_count": null,
      "metadata": {
        "colab": {
          "background_save": true,
          "base_uri": "https://localhost:8080/"
        },
        "id": "GWrAPlydidkz",
        "outputId": "0de89466-3d26-4606-a5b6-a62d7aea31e0"
      },
      "outputs": [
        {
          "name": "stdout",
          "output_type": "stream",
          "text": [
            "Epoch 1/10\n",
            "1875/1875 [==============================] - 161s 85ms/step - loss: 0.4415 - accuracy: 0.8414 - val_loss: 0.3706 - val_accuracy: 0.8667\n",
            "Epoch 2/10\n",
            " 646/1875 [=========>....................] - ETA: 1:31 - loss: 0.3126 - accuracy: 0.8868"
          ]
        }
      ],
      "source": [
        "start_time = time.time() #First the CNN with the 64 filters\n",
        "model_64.fit(train_images.reshape((-1, 28, 28, 1)), train_labels, epochs=10, validation_data=(test_images.reshape((-1, 28, 28, 1)), test_labels))\n",
        "end_time = time.time()\n",
        "print(\"Model with 64 filters, Execution Time:\", end_time - start_time)"
      ]
    },
    {
      "cell_type": "code",
      "execution_count": null,
      "metadata": {
        "id": "eXwYjbuKyoDU"
      },
      "outputs": [],
      "source": [
        "start_time = time.time() #Second the CNN with the 128 filters\n",
        "model_128.fit(train_images.reshape((-1, 28, 28, 1)), train_labels, epochs=10, validation_data=(test_images.reshape((-1, 28, 28, 1)), test_labels))\n",
        "end_time = time.time()\n",
        "print(\"Model with 128 filters, Execution Time:\", end_time - start_time)"
      ]
    },
    {
      "cell_type": "code",
      "execution_count": null,
      "metadata": {
        "id": "3Zr-aPy6zH9Z"
      },
      "outputs": [],
      "source": [
        "start_time = time.time() #Third, the CNN with the 256 filters\n",
        "history_256 = model_256.fit(train_images.reshape((-1, 28, 28, 1)), train_labels, epochs=10, validation_data=(test_images.reshape((-1, 28, 28, 1)), test_labels))\n",
        "end_time = time.time()\n",
        "print(\"Model with 256 filters, Execution Time:\", end_time - start_time)"
      ]
    },
    {
      "cell_type": "markdown",
      "metadata": {
        "id": "9OxZ0nFzzTuX"
      },
      "source": [
        "Evaluating each model on the test set\n"
      ]
    },
    {
      "cell_type": "code",
      "execution_count": null,
      "metadata": {
        "id": "ZEGyx9-TzWYf"
      },
      "outputs": [],
      "source": [
        "test_loss, test_acc = model_64.evaluate(test_images.reshape((-1, 28, 28, 1)), test_labels)\n",
        "print(\"Model with 64 filters, Test accuracy:\", test_acc)\n",
        "test_loss, test_acc = model_128.evaluate(test_images.reshape((-1, 28, 28, 1)), test_labels)\n",
        "print(\"Model with 128 filters, Test accuracy:\", test_acc)\n",
        "test_loss, test_acc = model_256.evaluate(test_images.reshape((-1, 28, 28, 1)), test_labels)\n",
        "print(\"Model with 256 filters, Test accuracy:\", test_acc)"
      ]
    }
  ],
  "metadata": {
    "accelerator": "GPU",
    "colab": {
      "provenance": []
    },
    "gpuClass": "standard",
    "kernelspec": {
      "display_name": "Python 3",
      "name": "python3"
    },
    "language_info": {
      "name": "python"
    }
  },
  "nbformat": 4,
  "nbformat_minor": 0
}